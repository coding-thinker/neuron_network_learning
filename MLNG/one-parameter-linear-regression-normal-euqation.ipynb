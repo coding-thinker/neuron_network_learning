{
 "metadata": {
  "language_info": {
   "codemirror_mode": {
    "name": "ipython",
    "version": 3
   },
   "file_extension": ".py",
   "mimetype": "text/x-python",
   "name": "python",
   "nbconvert_exporter": "python",
   "pygments_lexer": "ipython3",
   "version": "3.9.1"
  },
  "orig_nbformat": 2,
  "kernelspec": {
   "name": "python391jvsc74a57bd02e7ff9bb4f6a1a4c46f456e81ca28336c30502f6964c0ade8a7bc4ce0bfaaa65",
   "display_name": "Python 3.9.1 64-bit"
  },
  "metadata": {
   "interpreter": {
    "hash": "2e7ff9bb4f6a1a4c46f456e81ca28336c30502f6964c0ade8a7bc4ce0bfaaa65"
   }
  }
 },
 "nbformat": 4,
 "nbformat_minor": 2,
 "cells": [
  {
   "source": [
    "# Import site-libs"
   ],
   "cell_type": "markdown",
   "metadata": {}
  },
  {
   "cell_type": "code",
   "execution_count": null,
   "metadata": {},
   "outputs": [],
   "source": [
    "import tqdm\n",
    "import numpy as np\n",
    "from matplotlib import pyplot as plt"
   ]
  },
  {
   "source": [
    "# Load data"
   ],
   "cell_type": "markdown",
   "metadata": {}
  },
  {
   "cell_type": "code",
   "execution_count": null,
   "metadata": {},
   "outputs": [],
   "source": [
    "data = np.loadtxt(\"ex1data1.txt\", delimiter=',')\n",
    "x = data[:,:-1]\n",
    "y = data[:,-1:]\n",
    "plt.scatter(x, y)"
   ]
  },
  {
   "source": [
    "# Pre-process data\n",
    "add 1 column for bias"
   ],
   "cell_type": "markdown",
   "metadata": {}
  },
  {
   "cell_type": "code",
   "execution_count": null,
   "metadata": {},
   "outputs": [],
   "source": [
    "x = np.concatenate((np.ones(shape=(len(x), 1)), x), axis = 1)"
   ]
  },
  {
   "source": [
    "# Normal equation"
   ],
   "cell_type": "markdown",
   "metadata": {}
  },
  {
   "cell_type": "code",
   "execution_count": null,
   "metadata": {},
   "outputs": [],
   "source": [
    "theta = np.linalg.inv(x.T @ x) @ (x.T @ y)"
   ]
  },
  {
   "source": [
    "# Plot graph"
   ],
   "cell_type": "markdown",
   "metadata": {}
  },
  {
   "cell_type": "code",
   "execution_count": null,
   "metadata": {},
   "outputs": [],
   "source": [
    "xx = np.array([[x[:,1:].min()], [x[:,1:].max()]])\n",
    "xx = np.concatenate((np.ones(shape=(len(xx), 1)), xx), axis = 1)\n",
    "print(xx.shape, theta.shape)\n",
    "yy = xx @ theta\n",
    "plt.plot(xx[:,1:], yy)\n",
    "plt.scatter(x[:,1:], y)\n",
    "plt.show()"
   ]
  }
 ]
}