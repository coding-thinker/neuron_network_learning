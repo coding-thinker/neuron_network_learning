{
 "metadata": {
  "language_info": {
   "codemirror_mode": {
    "name": "ipython",
    "version": 3
   },
   "file_extension": ".py",
   "mimetype": "text/x-python",
   "name": "python",
   "nbconvert_exporter": "python",
   "pygments_lexer": "ipython3",
   "version": "3.9.1"
  },
  "orig_nbformat": 2,
  "kernelspec": {
   "name": "python391jvsc74a57bd02e7ff9bb4f6a1a4c46f456e81ca28336c30502f6964c0ade8a7bc4ce0bfaaa65",
   "display_name": "Python 3.9.1 64-bit"
  },
  "metadata": {
   "interpreter": {
    "hash": "2e7ff9bb4f6a1a4c46f456e81ca28336c30502f6964c0ade8a7bc4ce0bfaaa65"
   }
  }
 },
 "nbformat": 4,
 "nbformat_minor": 2,
 "cells": [
  {
   "source": [
    "# Loading site-libs"
   ],
   "cell_type": "markdown",
   "metadata": {}
  },
  {
   "cell_type": "code",
   "execution_count": null,
   "metadata": {},
   "outputs": [],
   "source": [
    "import numpy as np\n",
    "import tqdm\n",
    "from matplotlib import pyplot as plt"
   ]
  },
  {
   "source": [
    "# Preparing data\n",
    "-1 for neg\n",
    "1 for pos"
   ],
   "cell_type": "markdown",
   "metadata": {}
  },
  {
   "cell_type": "code",
   "execution_count": null,
   "metadata": {},
   "outputs": [],
   "source": [
    "pos_center = [3, 4]\n",
    "neg_center = [8, 7]\n",
    "size = 25\n",
    "posX = np.random.randn(size, 2) * 1 + np.array([pos_center])\n",
    "posY = np.ones((size, 1))\n",
    "negX = np.random.randn(size, 2) * 1 + np.array([neg_center])\n",
    "negY = -np.ones((size, 1))\n",
    "plt.scatter(posX[:,0], posX[:,1], marker='+')\n",
    "plt.scatter(negX[:,0], negX[:,1], marker='_')\n",
    "X = np.concatenate((posX, negX), axis=0)\n",
    "X = np.concatenate((X, np.ones((len(X), 1))), axis=1)\n",
    "Y = np.concatenate((posY, negY), axis=0)\n",
    "print(\"X: \", X.shape)\n",
    "print(\"Y: \", Y.shape)"
   ]
  },
  {
   "source": [
    "# Define loss and its derivative\n",
    "$$\n",
    "    l=C\\cdot max(0, 1-Y\\cdot X\\Theta)+\\frac{\\Theta^2}{2}=C\\cdot cost(Y\\cdot X\\Theta)+\\frac{\\Theta^2}{2}\n",
    "$$"
   ],
   "cell_type": "markdown",
   "metadata": {}
  },
  {
   "cell_type": "code",
   "execution_count": null,
   "metadata": {},
   "outputs": [],
   "source": [
    "k = 1\n",
    "def cost(x):\n",
    "    return (x < 1) * -k * x + (x < 1)\n",
    "def dcost(x):\n",
    "    return (x < 1) * -k"
   ]
  },
  {
   "cell_type": "code",
   "execution_count": null,
   "metadata": {},
   "outputs": [],
   "source": [
    "C = 10\n",
    "D = 1\n",
    "def loss(theta, F, Y):\n",
    "    return C * (cost(Y * F @ theta)).sum() + D *(theta ** 2 / 2).sum()\n",
    "def dloss(theta, F, Y):\n",
    "    return C * F.T @ (Y * dcost(Y * F @ theta)) + D * theta\n",
    "    # return - C * (F * dcost(Y * F @ theta)).T @ (dcost(Y * F @ theta) * Y) + D * theta"
   ]
  },
  {
   "source": [
    "# Define weights"
   ],
   "cell_type": "markdown",
   "metadata": {}
  },
  {
   "cell_type": "code",
   "execution_count": null,
   "metadata": {},
   "outputs": [],
   "source": [
    "theta = np.random.rand(3, 1)"
   ]
  },
  {
   "source": [
    "# Define Feature"
   ],
   "cell_type": "markdown",
   "metadata": {}
  },
  {
   "cell_type": "code",
   "execution_count": null,
   "metadata": {},
   "outputs": [],
   "source": [
    "F = X"
   ]
  },
  {
   "cell_type": "code",
   "execution_count": null,
   "metadata": {
    "tags": []
   },
   "outputs": [],
   "source": [
    "%matplotlib auto\n",
    "f = lambda x, theta : -x * theta[0][0] / theta[1][0] - theta[2][0] / theta[1][0] \n",
    "xsample = np.array([-5, 5])\n",
    "xsample = np.array([X[:,0].min(), X[:,0].max()])\n",
    "lr = 0.0001\n",
    "log = []\n",
    "for i in tqdm.tqdm(range(50000)):\n",
    "    log.append(loss(theta, F, Y))\n",
    "    theta -= dloss(theta, F, Y) * lr\n",
    "    if i % 1000 == 0:\n",
    "        plt.clf()\n",
    "        plt.cla()\n",
    "        plt.subplot(1, 2, 1)\n",
    "        plt.plot(list(range(len(log))), log)\n",
    "        plt.subplot(1, 2, 2)\n",
    "        plt.scatter(posX[:,0], posX[:,1], marker='+')\n",
    "        plt.scatter(negX[:,0], negX[:,1], marker='_')\n",
    "        plt.plot(xsample, f(xsample, theta))\n",
    "        plt.pause(0.001)\n",
    "%matplotlib inline\n"
   ]
  },
  {
   "cell_type": "code",
   "execution_count": null,
   "metadata": {},
   "outputs": [],
   "source": [
    "f = lambda x, theta : -x * theta[0][0] / theta[1][0] - theta[2][0] / theta[1][0] \n",
    "plt.scatter(posX[:,0], posX[:,1], marker='+')\n",
    "plt.scatter(negX[:,0], negX[:,1], marker='_')\n",
    "plt.plot(xsample, f(xsample, theta))"
   ]
  }
 ]
}